{
 "cells": [
  {
   "cell_type": "code",
   "execution_count": 7,
   "id": "475e8476-fa5e-4284-9ae4-184419503e2d",
   "metadata": {},
   "outputs": [
    {
     "name": "stderr",
     "output_type": "stream",
     "text": [
      "/home/ubuntu/Projects/audio-benchmark/.venv/lib/python3.12/site-packages/tqdm/auto.py:21: TqdmWarning: IProgress not found. Please update jupyter and ipywidgets. See https://ipywidgets.readthedocs.io/en/stable/user_install.html\n",
      "  from .autonotebook import tqdm as notebook_tqdm\n"
     ]
    }
   ],
   "source": [
    "import torch\n",
    "import pandas as pd\n",
    "from transformers import AutoModelForSpeechSeq2Seq, AutoProcessor, pipeline\n",
    "from pathlib import Path\n",
    "from datetime import datetime"
   ]
  },
  {
   "cell_type": "code",
   "execution_count": 9,
   "id": "b6cba5db-4995-47d4-97fd-ac6b0391d5a1",
   "metadata": {},
   "outputs": [
    {
     "name": "stderr",
     "output_type": "stream",
     "text": [
      "You are attempting to use Flash Attention 2.0 with a model not initialized on GPU. Make sure to move the model to GPU after initializing it on CPU with `model.to('cuda')`.\n"
     ]
    }
   ],
   "source": [
    "device = \"cuda:0\" if torch.cuda.is_available() else \"cpu\"\n",
    "torch_dtype = torch.float16 if torch.cuda.is_available() else torch.float32\n",
    "\n",
    "model_id = \"openai/whisper-large-v3-turbo\"\n",
    "\n",
    "model = AutoModelForSpeechSeq2Seq.from_pretrained(\n",
    "    model_id, \n",
    "    torch_dtype=torch_dtype, \n",
    "    low_cpu_mem_usage=True, \n",
    "    attn_implementation=\"flash_attention_2\"\n",
    ")\n",
    "\n",
    "model.to(device)\n",
    "processor = AutoProcessor.from_pretrained(model_id)"
   ]
  },
  {
   "cell_type": "code",
   "execution_count": 10,
   "id": "97ea7877-091a-487a-abf4-57517d4f948b",
   "metadata": {},
   "outputs": [
    {
     "data": {
      "text/html": [
       "<div>\n",
       "<style scoped>\n",
       "    .dataframe tbody tr th:only-of-type {\n",
       "        vertical-align: middle;\n",
       "    }\n",
       "\n",
       "    .dataframe tbody tr th {\n",
       "        vertical-align: top;\n",
       "    }\n",
       "\n",
       "    .dataframe thead th {\n",
       "        text-align: right;\n",
       "    }\n",
       "</style>\n",
       "<table border=\"1\" class=\"dataframe\">\n",
       "  <thead>\n",
       "    <tr style=\"text-align: right;\">\n",
       "      <th></th>\n",
       "      <th>path</th>\n",
       "      <th>sentence</th>\n",
       "      <th>duration</th>\n",
       "      <th>sr</th>\n",
       "    </tr>\n",
       "  </thead>\n",
       "  <tbody>\n",
       "    <tr>\n",
       "      <th>0</th>\n",
       "      <td>data/audio/00010.mp3</td>\n",
       "      <td>Já é uma sorte que você é poupado de um acidente.</td>\n",
       "      <td>9.648</td>\n",
       "      <td>48000</td>\n",
       "    </tr>\n",
       "    <tr>\n",
       "      <th>1</th>\n",
       "      <td>data/audio/00076.mp3</td>\n",
       "      <td>esquadrão da morte, jogo do bicho, máfia do ap...</td>\n",
       "      <td>9.756</td>\n",
       "      <td>48000</td>\n",
       "    </tr>\n",
       "    <tr>\n",
       "      <th>2</th>\n",
       "      <td>data/audio/00083.mp3</td>\n",
       "      <td>burnout, anorexia nervosa, bulimia, periódica,...</td>\n",
       "      <td>9.972</td>\n",
       "      <td>48000</td>\n",
       "    </tr>\n",
       "    <tr>\n",
       "      <th>3</th>\n",
       "      <td>data/audio/00084.mp3</td>\n",
       "      <td>Duas mulheres e uma menina levantam com troféus.</td>\n",
       "      <td>10.176</td>\n",
       "      <td>48000</td>\n",
       "    </tr>\n",
       "    <tr>\n",
       "      <th>4</th>\n",
       "      <td>data/audio/00092.mp3</td>\n",
       "      <td>Mesa de sinuca no bar</td>\n",
       "      <td>10.620</td>\n",
       "      <td>48000</td>\n",
       "    </tr>\n",
       "  </tbody>\n",
       "</table>\n",
       "</div>"
      ],
      "text/plain": [
       "                   path                                           sentence  \\\n",
       "0  data/audio/00010.mp3  Já é uma sorte que você é poupado de um acidente.   \n",
       "1  data/audio/00076.mp3  esquadrão da morte, jogo do bicho, máfia do ap...   \n",
       "2  data/audio/00083.mp3  burnout, anorexia nervosa, bulimia, periódica,...   \n",
       "3  data/audio/00084.mp3   Duas mulheres e uma menina levantam com troféus.   \n",
       "4  data/audio/00092.mp3                              Mesa de sinuca no bar   \n",
       "\n",
       "   duration     sr  \n",
       "0     9.648  48000  \n",
       "1     9.756  48000  \n",
       "2     9.972  48000  \n",
       "3    10.176  48000  \n",
       "4    10.620  48000  "
      ]
     },
     "execution_count": 10,
     "metadata": {},
     "output_type": "execute_result"
    }
   ],
   "source": [
    "df_audios = pd.read_csv('data/audios.csv')\n",
    "df_audios.head()"
   ]
  },
  {
   "cell_type": "code",
   "execution_count": 11,
   "id": "f16fb7c1-004c-4195-b389-c08641727c2d",
   "metadata": {},
   "outputs": [
    {
     "name": "stderr",
     "output_type": "stream",
     "text": [
      "Device set to use cuda:0\n"
     ]
    }
   ],
   "source": [
    "pipe = pipeline(\n",
    "    \"automatic-speech-recognition\",\n",
    "    model=model,\n",
    "    tokenizer=processor.tokenizer,\n",
    "    feature_extractor=processor.feature_extractor,\n",
    "    # chunk_length_s=30,\n",
    "    batch_size=16,  # batch size for inference - set based on your device\n",
    "    torch_dtype=torch_dtype,\n",
    "    device=device,\n",
    ")"
   ]
  },
  {
   "cell_type": "code",
   "execution_count": 14,
   "id": "11a66496-39d7-4496-8145-6bc0fc92a06b",
   "metadata": {},
   "outputs": [],
   "source": [
    "executions = []\n",
    "\n",
    "for p in df_audios.path:\n",
    "    start = datetime.now()\n",
    "    result = pipe(inputs=p, generate_kwargs={\"language\": \"portuguese\"})\n",
    "    tot_seconds = (datetime.now() - start).total_seconds()\n",
    "    executions.append((Path(p).name, result['text'], tot_seconds))    "
   ]
  },
  {
   "cell_type": "code",
   "execution_count": 13,
   "id": "0912709f-b8f0-4c23-ae9e-955ccbd08966",
   "metadata": {},
   "outputs": [
    {
     "data": {
      "text/html": [
       "<div>\n",
       "<style scoped>\n",
       "    .dataframe tbody tr th:only-of-type {\n",
       "        vertical-align: middle;\n",
       "    }\n",
       "\n",
       "    .dataframe tbody tr th {\n",
       "        vertical-align: top;\n",
       "    }\n",
       "\n",
       "    .dataframe thead th {\n",
       "        text-align: right;\n",
       "    }\n",
       "</style>\n",
       "<table border=\"1\" class=\"dataframe\">\n",
       "  <thead>\n",
       "    <tr style=\"text-align: right;\">\n",
       "      <th></th>\n",
       "      <th>file</th>\n",
       "      <th>transcription</th>\n",
       "      <th>total_seconds</th>\n",
       "    </tr>\n",
       "  </thead>\n",
       "  <tbody>\n",
       "    <tr>\n",
       "      <th>0</th>\n",
       "      <td>00010.mp3</td>\n",
       "      <td>já é uma sorte que você é poupado de um acidente</td>\n",
       "      <td>0.673280</td>\n",
       "    </tr>\n",
       "    <tr>\n",
       "      <th>1</th>\n",
       "      <td>00076.mp3</td>\n",
       "      <td>Esquadrão da Morte, Jogo do Bicho, Máfia do A...</td>\n",
       "      <td>0.285897</td>\n",
       "    </tr>\n",
       "    <tr>\n",
       "      <th>2</th>\n",
       "      <td>00083.mp3</td>\n",
       "      <td>...tornal, temorexia nervosa, bulimia periódi...</td>\n",
       "      <td>0.316535</td>\n",
       "    </tr>\n",
       "    <tr>\n",
       "      <th>3</th>\n",
       "      <td>00084.mp3</td>\n",
       "      <td>Duas mulheres e uma menina levantam com troféus.</td>\n",
       "      <td>0.185692</td>\n",
       "    </tr>\n",
       "    <tr>\n",
       "      <th>4</th>\n",
       "      <td>00092.mp3</td>\n",
       "      <td>Mesa de sinuca no bar.</td>\n",
       "      <td>0.143915</td>\n",
       "    </tr>\n",
       "  </tbody>\n",
       "</table>\n",
       "</div>"
      ],
      "text/plain": [
       "        file                                      transcription  total_seconds\n",
       "0  00010.mp3   já é uma sorte que você é poupado de um acidente       0.673280\n",
       "1  00076.mp3   Esquadrão da Morte, Jogo do Bicho, Máfia do A...       0.285897\n",
       "2  00083.mp3   ...tornal, temorexia nervosa, bulimia periódi...       0.316535\n",
       "3  00084.mp3   Duas mulheres e uma menina levantam com troféus.       0.185692\n",
       "4  00092.mp3                             Mesa de sinuca no bar.       0.143915"
      ]
     },
     "execution_count": 13,
     "metadata": {},
     "output_type": "execute_result"
    }
   ],
   "source": [
    "df = pd.DataFrame(executions, columns=['file', 'transcription', 'total_seconds'])\n",
    "df.to_csv('data/whisper-large-v3-turbo.csv', index=False)\n",
    "df.head()"
   ]
  },
  {
   "cell_type": "code",
   "execution_count": null,
   "id": "874e51a4-80df-4b8b-8d27-08143508e370",
   "metadata": {},
   "outputs": [],
   "source": []
  },
  {
   "cell_type": "code",
   "execution_count": null,
   "id": "ae822472-1aeb-4083-b968-6fc2bdd13dca",
   "metadata": {},
   "outputs": [],
   "source": []
  },
  {
   "cell_type": "code",
   "execution_count": null,
   "id": "a97cadd9-b6d2-47a3-90f3-b98110d40f23",
   "metadata": {},
   "outputs": [],
   "source": []
  },
  {
   "cell_type": "code",
   "execution_count": null,
   "id": "c0310e7b-bc99-47a2-8131-cdc1b10ca15e",
   "metadata": {},
   "outputs": [],
   "source": []
  }
 ],
 "metadata": {
  "kernelspec": {
   "display_name": "Python 3 (ipykernel)",
   "language": "python",
   "name": "python3"
  },
  "language_info": {
   "codemirror_mode": {
    "name": "ipython",
    "version": 3
   },
   "file_extension": ".py",
   "mimetype": "text/x-python",
   "name": "python",
   "nbconvert_exporter": "python",
   "pygments_lexer": "ipython3",
   "version": "3.12.8"
  }
 },
 "nbformat": 4,
 "nbformat_minor": 5
}
