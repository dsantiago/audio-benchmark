{
 "cells": [
  {
   "cell_type": "code",
   "execution_count": 148,
   "metadata": {},
   "outputs": [],
   "source": [
    "# Speech-to-Text V2 supported languages: https://cloud.google.com/speech-to-text/v2/docs/speech-to-text-supported-languages"
   ]
  },
  {
   "cell_type": "code",
   "execution_count": 136,
   "metadata": {},
   "outputs": [],
   "source": [
    "from langchain_google_community import SpeechToTextLoader\n",
    "from google.cloud.speech_v2 import RecognitionConfig, AutoDetectDecodingConfig\n",
    "from google.cloud import storage\n",
    "\n",
    "from pathlib import Path\n",
    "from tqdm.auto import tqdm\n",
    "import pandas as pd"
   ]
  },
  {
   "cell_type": "code",
   "execution_count": 122,
   "metadata": {},
   "outputs": [],
   "source": [
    "bucket = storage.Client().bucket('trancriptions-mozilla')\n",
    "project_id = \"llm-study-409119\"\n",
    "files = [b.name for b in bucket.list_blobs() if b.name.endswith('.mp3')]"
   ]
  },
  {
   "cell_type": "code",
   "execution_count": 146,
   "metadata": {},
   "outputs": [],
   "source": [
    "def generate_trancriptions():\n",
    "    config = RecognitionConfig(model='telephony', auto_decoding_config=AutoDetectDecodingConfig(), language_codes=[\"pt-BR\"])\n",
    "    df = pd.DataFrame(columns=['file', 'transcription', 'total_seconds'])\n",
    "\n",
    "    with tqdm(total=len(files), desc=\"Processing Files\") as pbar:\n",
    "        for f in files:\n",
    "            file_path = f\"gs://{bucket.name}/{f}\"\n",
    "            loader = SpeechToTextLoader(project_id=project_id, file_path=file_path, config=config)\n",
    "            docs = loader.load()\n",
    "\n",
    "            df.loc[len(df)] = Path(f).name, docs[0].page_content, docs[0].metadata['result_end_offset'].total_seconds()\n",
    "            pbar.set_postfix(file_asdf=f)\n",
    "            pbar.update(1)\n",
    "\n",
    "    df.to_csv('data/gcp-stt.csv', index=False)\n",
    "    print('Data saved to \"data/gcp-stt.csv\".')    "
   ]
  },
  {
   "cell_type": "code",
   "execution_count": 147,
   "metadata": {},
   "outputs": [
    {
     "name": "stderr",
     "output_type": "stream",
     "text": [
      "Processing Files: 100%|██████████| 100/100 [10:12<00:00,  6.13s/it, file_asdf=audios/09407.mp3]"
     ]
    },
    {
     "name": "stdout",
     "output_type": "stream",
     "text": [
      "Data saved to \"data/gcp-stt.csv\".\n"
     ]
    },
    {
     "name": "stderr",
     "output_type": "stream",
     "text": [
      "\n"
     ]
    }
   ],
   "source": [
    "generate_trancriptions()"
   ]
  },
  {
   "cell_type": "code",
   "execution_count": 187,
   "metadata": {},
   "outputs": [
    {
     "data": {
      "text/html": [
       "<div>\n",
       "<style scoped>\n",
       "    .dataframe tbody tr th:only-of-type {\n",
       "        vertical-align: middle;\n",
       "    }\n",
       "\n",
       "    .dataframe tbody tr th {\n",
       "        vertical-align: top;\n",
       "    }\n",
       "\n",
       "    .dataframe thead th {\n",
       "        text-align: right;\n",
       "    }\n",
       "</style>\n",
       "<table border=\"1\" class=\"dataframe\">\n",
       "  <thead>\n",
       "    <tr style=\"text-align: right;\">\n",
       "      <th></th>\n",
       "      <th>file</th>\n",
       "      <th>transcription</th>\n",
       "      <th>total_seconds</th>\n",
       "    </tr>\n",
       "  </thead>\n",
       "  <tbody>\n",
       "    <tr>\n",
       "      <th>67</th>\n",
       "      <td>04319.mp3</td>\n",
       "      <td>Juatuba</td>\n",
       "      <td>3.48</td>\n",
       "    </tr>\n",
       "    <tr>\n",
       "      <th>84</th>\n",
       "      <td>06344.mp3</td>\n",
       "      <td>o ponto é que dura no tempo</td>\n",
       "      <td>4.30</td>\n",
       "    </tr>\n",
       "    <tr>\n",
       "      <th>9</th>\n",
       "      <td>00161.mp3</td>\n",
       "      <td>todos os julgamentos dos órgãos do Poder Judic...</td>\n",
       "      <td>5.33</td>\n",
       "    </tr>\n",
       "    <tr>\n",
       "      <th>22</th>\n",
       "      <td>00708.mp3</td>\n",
       "      <td>mas se você fugir Faremos o mesmo</td>\n",
       "      <td>5.35</td>\n",
       "    </tr>\n",
       "    <tr>\n",
       "      <th>34</th>\n",
       "      <td>01582.mp3</td>\n",
       "      <td>para ser um comerciante você precisa de uma fa...</td>\n",
       "      <td>5.72</td>\n",
       "    </tr>\n",
       "    <tr>\n",
       "      <th>56</th>\n",
       "      <td>03622.mp3</td>\n",
       "      <td>uma mulher vestindo uma jaqueta preta está and...</td>\n",
       "      <td>5.81</td>\n",
       "    </tr>\n",
       "    <tr>\n",
       "      <th>41</th>\n",
       "      <td>01962.mp3</td>\n",
       "      <td>Canhotinho</td>\n",
       "      <td>5.93</td>\n",
       "    </tr>\n",
       "    <tr>\n",
       "      <th>54</th>\n",
       "      <td>03489.mp3</td>\n",
       "      <td>os orientaremos sobre maternidade e paternidade</td>\n",
       "      <td>5.94</td>\n",
       "    </tr>\n",
       "    <tr>\n",
       "      <th>26</th>\n",
       "      <td>01014.mp3</td>\n",
       "      <td>pleitear direito alheio em nome próprio salvo</td>\n",
       "      <td>6.21</td>\n",
       "    </tr>\n",
       "    <tr>\n",
       "      <th>3</th>\n",
       "      <td>00084.mp3</td>\n",
       "      <td>duas mulheres em uma menina levantam com troféus</td>\n",
       "      <td>6.32</td>\n",
       "    </tr>\n",
       "  </tbody>\n",
       "</table>\n",
       "</div>"
      ],
      "text/plain": [
       "         file                                      transcription  \\\n",
       "67  04319.mp3                                            Juatuba   \n",
       "84  06344.mp3                        o ponto é que dura no tempo   \n",
       "9   00161.mp3  todos os julgamentos dos órgãos do Poder Judic...   \n",
       "22  00708.mp3                  mas se você fugir Faremos o mesmo   \n",
       "34  01582.mp3  para ser um comerciante você precisa de uma fa...   \n",
       "56  03622.mp3  uma mulher vestindo uma jaqueta preta está and...   \n",
       "41  01962.mp3                                         Canhotinho   \n",
       "54  03489.mp3    os orientaremos sobre maternidade e paternidade   \n",
       "26  01014.mp3      pleitear direito alheio em nome próprio salvo   \n",
       "3   00084.mp3   duas mulheres em uma menina levantam com troféus   \n",
       "\n",
       "    total_seconds  \n",
       "67           3.48  \n",
       "84           4.30  \n",
       "9            5.33  \n",
       "22           5.35  \n",
       "34           5.72  \n",
       "56           5.81  \n",
       "41           5.93  \n",
       "54           5.94  \n",
       "26           6.21  \n",
       "3            6.32  "
      ]
     },
     "execution_count": 187,
     "metadata": {},
     "output_type": "execute_result"
    }
   ],
   "source": [
    "df = pd.read_csv('data/gcp-stt.csv')\n",
    "df.nsmallest(10, 'total_seconds')"
   ]
  },
  {
   "cell_type": "code",
   "execution_count": 194,
   "metadata": {},
   "outputs": [
    {
     "data": {
      "image/png": "[encoded data removed]",
      "text/plain": [
       "<Figure size 640x480 with 1 Axes>"
      ]
     },
     "metadata": {},
     "output_type": "display_data"
    }
   ],
   "source": [
    "df.total_seconds.round(0).astype(int).value_counts().sort_index().plot.bar(title='Transcription Duration in Seconds');"
   ]
  },
  {
   "cell_type": "code",
   "execution_count": null,
   "metadata": {},
   "outputs": [],
   "source": []
  }
 ],
 "metadata": {
  "kernelspec": {
   "display_name": ".venv",
   "language": "python",
   "name": "python3"
  },
  "language_info": {
   "codemirror_mode": {
    "name": "ipython",
    "version": 3
   },
   "file_extension": ".py",
   "mimetype": "text/x-python",
   "name": "python",
   "nbconvert_exporter": "python",
   "pygments_lexer": "ipython3",
   "version": "3.12.8"
  }
 },
 "nbformat": 4,
 "nbformat_minor": 2
}
