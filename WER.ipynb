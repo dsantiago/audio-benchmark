{
 "cells": [
  {
   "cell_type": "code",
   "execution_count": 22,
   "id": "21bcc75a-104b-4510-a587-38a8cb26beca",
   "metadata": {},
   "outputs": [],
   "source": [
    "import pandas as pd\n",
    "from evaluate import load"
   ]
  },
  {
   "cell_type": "code",
   "execution_count": 61,
   "id": "988ce711-8bb1-42e7-89cf-d22cc27f0bc7",
   "metadata": {},
   "outputs": [],
   "source": [
    "wer = load(\"wer\")"
   ]
  },
  {
   "cell_type": "code",
   "execution_count": 76,
   "id": "8c2d4460-296b-4101-9dca-247c18053003",
   "metadata": {},
   "outputs": [],
   "source": [
    "files = ['audios', 'gcp-stt', 'oci_speech', 'whisper-large-v3-turbo']\n",
    "df_audios, df_stt, df_oci, df_whisper = (pd.read_csv(f\"data/{f}.csv\") for f in files)"
   ]
  },
  {
   "cell_type": "code",
   "execution_count": 84,
   "id": "44ad1b4a-2c69-4b54-832e-0be2d4fce26b",
   "metadata": {},
   "outputs": [
    {
     "data": {
      "text/html": [
       "<div>\n",
       "<style scoped>\n",
       "    .dataframe tbody tr th:only-of-type {\n",
       "        vertical-align: middle;\n",
       "    }\n",
       "\n",
       "    .dataframe tbody tr th {\n",
       "        vertical-align: top;\n",
       "    }\n",
       "\n",
       "    .dataframe thead th {\n",
       "        text-align: right;\n",
       "    }\n",
       "</style>\n",
       "<table border=\"1\" class=\"dataframe\">\n",
       "  <thead>\n",
       "    <tr style=\"text-align: right;\">\n",
       "      <th></th>\n",
       "      <th>path</th>\n",
       "      <th>sentence</th>\n",
       "      <th>duration</th>\n",
       "      <th>sr</th>\n",
       "    </tr>\n",
       "  </thead>\n",
       "  <tbody>\n",
       "    <tr>\n",
       "      <th>0</th>\n",
       "      <td>data/audio/00010.mp3</td>\n",
       "      <td>Já é uma sorte que você é poupado de um acidente.</td>\n",
       "      <td>9.648</td>\n",
       "      <td>48000</td>\n",
       "    </tr>\n",
       "    <tr>\n",
       "      <th>1</th>\n",
       "      <td>data/audio/00076.mp3</td>\n",
       "      <td>esquadrão da morte, jogo do bicho, máfia do ap...</td>\n",
       "      <td>9.756</td>\n",
       "      <td>48000</td>\n",
       "    </tr>\n",
       "    <tr>\n",
       "      <th>2</th>\n",
       "      <td>data/audio/00083.mp3</td>\n",
       "      <td>burnout, anorexia nervosa, bulimia, periódica,...</td>\n",
       "      <td>9.972</td>\n",
       "      <td>48000</td>\n",
       "    </tr>\n",
       "  </tbody>\n",
       "</table>\n",
       "</div>"
      ],
      "text/plain": [
       "                   path                                           sentence  \\\n",
       "0  data/audio/00010.mp3  Já é uma sorte que você é poupado de um acidente.   \n",
       "1  data/audio/00076.mp3  esquadrão da morte, jogo do bicho, máfia do ap...   \n",
       "2  data/audio/00083.mp3  burnout, anorexia nervosa, bulimia, periódica,...   \n",
       "\n",
       "   duration     sr  \n",
       "0     9.648  48000  \n",
       "1     9.756  48000  \n",
       "2     9.972  48000  "
      ]
     },
     "metadata": {},
     "output_type": "display_data"
    },
    {
     "data": {
      "text/html": [
       "<div>\n",
       "<style scoped>\n",
       "    .dataframe tbody tr th:only-of-type {\n",
       "        vertical-align: middle;\n",
       "    }\n",
       "\n",
       "    .dataframe tbody tr th {\n",
       "        vertical-align: top;\n",
       "    }\n",
       "\n",
       "    .dataframe thead th {\n",
       "        text-align: right;\n",
       "    }\n",
       "</style>\n",
       "<table border=\"1\" class=\"dataframe\">\n",
       "  <thead>\n",
       "    <tr style=\"text-align: right;\">\n",
       "      <th></th>\n",
       "      <th>file</th>\n",
       "      <th>transcription</th>\n",
       "      <th>total_seconds</th>\n",
       "    </tr>\n",
       "  </thead>\n",
       "  <tbody>\n",
       "    <tr>\n",
       "      <th>0</th>\n",
       "      <td>00010.mp3</td>\n",
       "      <td>já é uma sorte que você é poupado de um acidente</td>\n",
       "      <td>7.97</td>\n",
       "    </tr>\n",
       "    <tr>\n",
       "      <th>1</th>\n",
       "      <td>00076.mp3</td>\n",
       "      <td>Esquadrão da Morte jogo do bicho máfia do apit...</td>\n",
       "      <td>9.19</td>\n",
       "    </tr>\n",
       "    <tr>\n",
       "      <th>2</th>\n",
       "      <td>00083.mp3</td>\n",
       "      <td>marxia nervosa bulimia perodica alimentar a co...</td>\n",
       "      <td>9.91</td>\n",
       "    </tr>\n",
       "  </tbody>\n",
       "</table>\n",
       "</div>"
      ],
      "text/plain": [
       "        file                                      transcription  total_seconds\n",
       "0  00010.mp3   já é uma sorte que você é poupado de um acidente           7.97\n",
       "1  00076.mp3  Esquadrão da Morte jogo do bicho máfia do apit...           9.19\n",
       "2  00083.mp3  marxia nervosa bulimia perodica alimentar a co...           9.91"
      ]
     },
     "metadata": {},
     "output_type": "display_data"
    },
    {
     "data": {
      "text/html": [
       "<div>\n",
       "<style scoped>\n",
       "    .dataframe tbody tr th:only-of-type {\n",
       "        vertical-align: middle;\n",
       "    }\n",
       "\n",
       "    .dataframe tbody tr th {\n",
       "        vertical-align: top;\n",
       "    }\n",
       "\n",
       "    .dataframe thead th {\n",
       "        text-align: right;\n",
       "    }\n",
       "</style>\n",
       "<table border=\"1\" class=\"dataframe\">\n",
       "  <thead>\n",
       "    <tr style=\"text-align: right;\">\n",
       "      <th></th>\n",
       "      <th>file</th>\n",
       "      <th>transcription</th>\n",
       "      <th>total_seconds</th>\n",
       "    </tr>\n",
       "  </thead>\n",
       "  <tbody>\n",
       "    <tr>\n",
       "      <th>0</th>\n",
       "      <td>00010.mp3</td>\n",
       "      <td>Já é uma sorte você é poupado de um acidente.</td>\n",
       "      <td>17</td>\n",
       "    </tr>\n",
       "    <tr>\n",
       "      <th>1</th>\n",
       "      <td>00076.mp3</td>\n",
       "      <td>Esquadrão da Morte, Jogo do Bicho, Máfia do Ap...</td>\n",
       "      <td>17</td>\n",
       "    </tr>\n",
       "    <tr>\n",
       "      <th>2</th>\n",
       "      <td>00083.mp3</td>\n",
       "      <td>Pernalte, anorexia nervosa, bulimia peróidica,...</td>\n",
       "      <td>21</td>\n",
       "    </tr>\n",
       "  </tbody>\n",
       "</table>\n",
       "</div>"
      ],
      "text/plain": [
       "        file                                      transcription  total_seconds\n",
       "0  00010.mp3      Já é uma sorte você é poupado de um acidente.             17\n",
       "1  00076.mp3  Esquadrão da Morte, Jogo do Bicho, Máfia do Ap...             17\n",
       "2  00083.mp3  Pernalte, anorexia nervosa, bulimia peróidica,...             21"
      ]
     },
     "metadata": {},
     "output_type": "display_data"
    },
    {
     "data": {
      "text/html": [
       "<div>\n",
       "<style scoped>\n",
       "    .dataframe tbody tr th:only-of-type {\n",
       "        vertical-align: middle;\n",
       "    }\n",
       "\n",
       "    .dataframe tbody tr th {\n",
       "        vertical-align: top;\n",
       "    }\n",
       "\n",
       "    .dataframe thead th {\n",
       "        text-align: right;\n",
       "    }\n",
       "</style>\n",
       "<table border=\"1\" class=\"dataframe\">\n",
       "  <thead>\n",
       "    <tr style=\"text-align: right;\">\n",
       "      <th></th>\n",
       "      <th>file</th>\n",
       "      <th>transcription</th>\n",
       "      <th>total_seconds</th>\n",
       "    </tr>\n",
       "  </thead>\n",
       "  <tbody>\n",
       "    <tr>\n",
       "      <th>0</th>\n",
       "      <td>00010.mp3</td>\n",
       "      <td>já é uma sorte que você é poupado de um acidente</td>\n",
       "      <td>0.673280</td>\n",
       "    </tr>\n",
       "    <tr>\n",
       "      <th>1</th>\n",
       "      <td>00076.mp3</td>\n",
       "      <td>Esquadrão da Morte, Jogo do Bicho, Máfia do A...</td>\n",
       "      <td>0.285897</td>\n",
       "    </tr>\n",
       "    <tr>\n",
       "      <th>2</th>\n",
       "      <td>00083.mp3</td>\n",
       "      <td>...tornal, temorexia nervosa, bulimia periódi...</td>\n",
       "      <td>0.316535</td>\n",
       "    </tr>\n",
       "  </tbody>\n",
       "</table>\n",
       "</div>"
      ],
      "text/plain": [
       "        file                                      transcription  total_seconds\n",
       "0  00010.mp3   já é uma sorte que você é poupado de um acidente       0.673280\n",
       "1  00076.mp3   Esquadrão da Morte, Jogo do Bicho, Máfia do A...       0.285897\n",
       "2  00083.mp3   ...tornal, temorexia nervosa, bulimia periódi...       0.316535"
      ]
     },
     "metadata": {},
     "output_type": "display_data"
    }
   ],
   "source": [
    "for df in [df_audios, df_stt, df_oci, df_whisper]:\n",
    "    display(df.head(3))"
   ]
  },
  {
   "cell_type": "code",
   "execution_count": 188,
   "id": "5e27c581",
   "metadata": {},
   "outputs": [],
   "source": [
    "def show_info(df_source, df_result):\n",
    "    error = wer.compute(predictions=df_result.transcription, references=df_source.sentence)\n",
    "    seconds = df_result.total_seconds.sum()\n",
    "    minutes, seconds = divmod(int(seconds), 60)\n",
    "    minutes_output = f\"{minutes} minutes and {seconds} seconds\"\n",
    "\n",
    "    df_merge = (df_source\n",
    "        .rename(columns={'path': 'file', 'sentence': 'reference'})\n",
    "        .assign(file=df_audios.path.str.split('/').str[-1])\n",
    "        .merge(df_result, on='file')\n",
    "    )\n",
    "    exec_per_second =  (df_merge.total_seconds / df_merge.duration).mean()\n",
    "\n",
    "    print(f\"Error (WER):               {error:.4f}\")\n",
    "    print(f\"Mean exec. time by audio:  {df_result.total_seconds.mean():.2f}\")\n",
    "    print(f\"Mean exec. per second:     {exec_per_second:.2f}\")\n",
    "    print(f\"Total Time for 100 audios: {minutes_output}\")"
   ]
  },
  {
   "cell_type": "code",
   "execution_count": 196,
   "id": "586967b7",
   "metadata": {},
   "outputs": [
    {
     "name": "stdout",
     "output_type": "stream",
     "text": [
      "===== Google STT =====\n",
      "Error (WER):               0.4839\n",
      "Mean exec. time by audio:  8.66\n",
      "Mean exec. per second:     0.86\n",
      "Total Time for 100 audios: 14 minutes and 26 seconds\n"
     ]
    }
   ],
   "source": [
    "print('===== Google STT =====')\n",
    "show_info(df_audios, df_stt)"
   ]
  },
  {
   "cell_type": "code",
   "execution_count": 197,
   "id": "8f98cc2b",
   "metadata": {},
   "outputs": [
    {
     "name": "stdout",
     "output_type": "stream",
     "text": [
      "===== OCI Speech =====\n",
      "Error (WER):               0.2638\n",
      "Mean exec. time by audio:  22.01\n",
      "Mean exec. per second:     2.19\n",
      "Total Time for 100 audios: 36 minutes and 41 seconds\n"
     ]
    }
   ],
   "source": [
    "print('===== OCI Speech =====')\n",
    "show_info(df_audios, df_oci)"
   ]
  },
  {
   "cell_type": "code",
   "execution_count": 198,
   "id": "16459d06",
   "metadata": {},
   "outputs": [
    {
     "name": "stdout",
     "output_type": "stream",
     "text": [
      "===== Whisper Large v2 Large Turbo + Flash Attn v2 =====\n",
      "Error (WER):               0.2381\n",
      "Mean exec. time by audio:  0.24\n",
      "Mean exec. per second:     0.02\n",
      "Total Time for 100 audios: 0 minutes and 23 seconds\n"
     ]
    }
   ],
   "source": [
    "print('===== Whisper Large v2 Large Turbo + Flash Attn v2 =====')\n",
    "show_info(df_audios, df_whisper)"
   ]
  },
  {
   "cell_type": "code",
   "execution_count": null,
   "id": "d7156d25",
   "metadata": {},
   "outputs": [],
   "source": []
  },
  {
   "cell_type": "code",
   "execution_count": null,
   "id": "87059719",
   "metadata": {},
   "outputs": [],
   "source": []
  }
 ],
 "metadata": {
  "kernelspec": {
   "display_name": ".venv",
   "language": "python",
   "name": "python3"
  },
  "language_info": {
   "codemirror_mode": {
    "name": "ipython",
    "version": 3
   },
   "file_extension": ".py",
   "mimetype": "text/x-python",
   "name": "python",
   "nbconvert_exporter": "python",
   "pygments_lexer": "ipython3",
   "version": "3.12.8"
  }
 },
 "nbformat": 4,
 "nbformat_minor": 5
}
