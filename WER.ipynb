{
 "cells": [
  {
   "cell_type": "code",
   "execution_count": 1,
   "id": "21bcc75a-104b-4510-a587-38a8cb26beca",
   "metadata": {},
   "outputs": [
    {
     "name": "stderr",
     "output_type": "stream",
     "text": [
      "/home/ubuntu/Projects/audio-benchmark/.venv/lib/python3.12/site-packages/tqdm/auto.py:21: TqdmWarning: IProgress not found. Please update jupyter and ipywidgets. See https://ipywidgets.readthedocs.io/en/stable/user_install.html\n",
      "  from .autonotebook import tqdm as notebook_tqdm\n"
     ]
    }
   ],
   "source": [
    "import pandas as pd\n",
    "from evaluate import load"
   ]
  },
  {
   "cell_type": "code",
   "execution_count": 2,
   "id": "988ce711-8bb1-42e7-89cf-d22cc27f0bc7",
   "metadata": {},
   "outputs": [],
   "source": [
    "wer = load(\"wer\")"
   ]
  },
  {
   "cell_type": "code",
   "execution_count": 22,
   "id": "8c2d4460-296b-4101-9dca-247c18053003",
   "metadata": {},
   "outputs": [],
   "source": [
    "files = ['audios', 'gcp-stt', 'oci_speech', 'whisper-large-v3-turbo']\n",
    "df_audios, df_stt, df_whisper, df_oci = (pd.read_csv(f\"data/{f}.csv\") for f in files)"
   ]
  },
  {
   "cell_type": "code",
   "execution_count": 25,
   "id": "44ad1b4a-2c69-4b54-832e-0be2d4fce26b",
   "metadata": {},
   "outputs": [
    {
     "data": {
      "text/html": [
       "<div>\n",
       "<style scoped>\n",
       "    .dataframe tbody tr th:only-of-type {\n",
       "        vertical-align: middle;\n",
       "    }\n",
       "\n",
       "    .dataframe tbody tr th {\n",
       "        vertical-align: top;\n",
       "    }\n",
       "\n",
       "    .dataframe thead th {\n",
       "        text-align: right;\n",
       "    }\n",
       "</style>\n",
       "<table border=\"1\" class=\"dataframe\">\n",
       "  <thead>\n",
       "    <tr style=\"text-align: right;\">\n",
       "      <th></th>\n",
       "      <th>path</th>\n",
       "      <th>sentence</th>\n",
       "      <th>duration</th>\n",
       "      <th>sr</th>\n",
       "    </tr>\n",
       "  </thead>\n",
       "  <tbody>\n",
       "    <tr>\n",
       "      <th>0</th>\n",
       "      <td>data/audio/00010.mp3</td>\n",
       "      <td>Já é uma sorte que você é poupado de um acidente.</td>\n",
       "      <td>9.648</td>\n",
       "      <td>48000</td>\n",
       "    </tr>\n",
       "    <tr>\n",
       "      <th>1</th>\n",
       "      <td>data/audio/00076.mp3</td>\n",
       "      <td>esquadrão da morte, jogo do bicho, máfia do ap...</td>\n",
       "      <td>9.756</td>\n",
       "      <td>48000</td>\n",
       "    </tr>\n",
       "    <tr>\n",
       "      <th>2</th>\n",
       "      <td>data/audio/00083.mp3</td>\n",
       "      <td>burnout, anorexia nervosa, bulimia, periódica,...</td>\n",
       "      <td>9.972</td>\n",
       "      <td>48000</td>\n",
       "    </tr>\n",
       "    <tr>\n",
       "      <th>3</th>\n",
       "      <td>data/audio/00084.mp3</td>\n",
       "      <td>Duas mulheres e uma menina levantam com troféus.</td>\n",
       "      <td>10.176</td>\n",
       "      <td>48000</td>\n",
       "    </tr>\n",
       "    <tr>\n",
       "      <th>4</th>\n",
       "      <td>data/audio/00092.mp3</td>\n",
       "      <td>Mesa de sinuca no bar</td>\n",
       "      <td>10.620</td>\n",
       "      <td>48000</td>\n",
       "    </tr>\n",
       "  </tbody>\n",
       "</table>\n",
       "</div>"
      ],
      "text/plain": [
       "                   path                                           sentence  \\\n",
       "0  data/audio/00010.mp3  Já é uma sorte que você é poupado de um acidente.   \n",
       "1  data/audio/00076.mp3  esquadrão da morte, jogo do bicho, máfia do ap...   \n",
       "2  data/audio/00083.mp3  burnout, anorexia nervosa, bulimia, periódica,...   \n",
       "3  data/audio/00084.mp3   Duas mulheres e uma menina levantam com troféus.   \n",
       "4  data/audio/00092.mp3                              Mesa de sinuca no bar   \n",
       "\n",
       "   duration     sr  \n",
       "0     9.648  48000  \n",
       "1     9.756  48000  \n",
       "2     9.972  48000  \n",
       "3    10.176  48000  \n",
       "4    10.620  48000  "
      ]
     },
     "execution_count": 25,
     "metadata": {},
     "output_type": "execute_result"
    }
   ],
   "source": [
    "df_audios.head()"
   ]
  },
  {
   "cell_type": "code",
   "execution_count": 26,
   "id": "262c7347-5de4-4547-abbe-83c7333b2f0b",
   "metadata": {},
   "outputs": [
    {
     "data": {
      "text/html": [
       "<div>\n",
       "<style scoped>\n",
       "    .dataframe tbody tr th:only-of-type {\n",
       "        vertical-align: middle;\n",
       "    }\n",
       "\n",
       "    .dataframe tbody tr th {\n",
       "        vertical-align: top;\n",
       "    }\n",
       "\n",
       "    .dataframe thead th {\n",
       "        text-align: right;\n",
       "    }\n",
       "</style>\n",
       "<table border=\"1\" class=\"dataframe\">\n",
       "  <thead>\n",
       "    <tr style=\"text-align: right;\">\n",
       "      <th></th>\n",
       "      <th>file</th>\n",
       "      <th>transcription</th>\n",
       "      <th>total_seconds</th>\n",
       "    </tr>\n",
       "  </thead>\n",
       "  <tbody>\n",
       "    <tr>\n",
       "      <th>0</th>\n",
       "      <td>00010.mp3</td>\n",
       "      <td>já é uma sorte que você é poupado de um acidente</td>\n",
       "      <td>7.97</td>\n",
       "    </tr>\n",
       "    <tr>\n",
       "      <th>1</th>\n",
       "      <td>00076.mp3</td>\n",
       "      <td>Esquadrão da Morte jogo do bicho máfia do apit...</td>\n",
       "      <td>9.19</td>\n",
       "    </tr>\n",
       "    <tr>\n",
       "      <th>2</th>\n",
       "      <td>00083.mp3</td>\n",
       "      <td>marxia nervosa bulimia perodica alimentar a co...</td>\n",
       "      <td>9.91</td>\n",
       "    </tr>\n",
       "    <tr>\n",
       "      <th>3</th>\n",
       "      <td>00084.mp3</td>\n",
       "      <td>duas mulheres em uma menina levantam com troféus</td>\n",
       "      <td>6.32</td>\n",
       "    </tr>\n",
       "    <tr>\n",
       "      <th>4</th>\n",
       "      <td>00092.mp3</td>\n",
       "      <td>mesa de sinuca no par</td>\n",
       "      <td>6.33</td>\n",
       "    </tr>\n",
       "  </tbody>\n",
       "</table>\n",
       "</div>"
      ],
      "text/plain": [
       "        file                                      transcription  total_seconds\n",
       "0  00010.mp3   já é uma sorte que você é poupado de um acidente           7.97\n",
       "1  00076.mp3  Esquadrão da Morte jogo do bicho máfia do apit...           9.19\n",
       "2  00083.mp3  marxia nervosa bulimia perodica alimentar a co...           9.91\n",
       "3  00084.mp3   duas mulheres em uma menina levantam com troféus           6.32\n",
       "4  00092.mp3                              mesa de sinuca no par           6.33"
      ]
     },
     "execution_count": 26,
     "metadata": {},
     "output_type": "execute_result"
    }
   ],
   "source": [
    "df_stt.head()"
   ]
  },
  {
   "cell_type": "code",
   "execution_count": 27,
   "id": "5247b029-3ea4-4b4e-8dfd-0e8f53c38f0a",
   "metadata": {},
   "outputs": [
    {
     "data": {
      "text/html": [
       "<div>\n",
       "<style scoped>\n",
       "    .dataframe tbody tr th:only-of-type {\n",
       "        vertical-align: middle;\n",
       "    }\n",
       "\n",
       "    .dataframe tbody tr th {\n",
       "        vertical-align: top;\n",
       "    }\n",
       "\n",
       "    .dataframe thead th {\n",
       "        text-align: right;\n",
       "    }\n",
       "</style>\n",
       "<table border=\"1\" class=\"dataframe\">\n",
       "  <thead>\n",
       "    <tr style=\"text-align: right;\">\n",
       "      <th></th>\n",
       "      <th>file</th>\n",
       "      <th>transcription</th>\n",
       "      <th>total_seconds</th>\n",
       "    </tr>\n",
       "  </thead>\n",
       "  <tbody>\n",
       "    <tr>\n",
       "      <th>0</th>\n",
       "      <td>00010.mp3</td>\n",
       "      <td>Já é uma sorte você é poupado de um acidente.</td>\n",
       "      <td>17</td>\n",
       "    </tr>\n",
       "    <tr>\n",
       "      <th>1</th>\n",
       "      <td>00076.mp3</td>\n",
       "      <td>Esquadrão da Morte, Jogo do Bicho, Máfia do Ap...</td>\n",
       "      <td>17</td>\n",
       "    </tr>\n",
       "    <tr>\n",
       "      <th>2</th>\n",
       "      <td>00083.mp3</td>\n",
       "      <td>Pernalte, anorexia nervosa, bulimia peróidica,...</td>\n",
       "      <td>21</td>\n",
       "    </tr>\n",
       "    <tr>\n",
       "      <th>3</th>\n",
       "      <td>00084.mp3</td>\n",
       "      <td>Duas mulheres e uma menina levantam com troféus.</td>\n",
       "      <td>15</td>\n",
       "    </tr>\n",
       "    <tr>\n",
       "      <th>4</th>\n",
       "      <td>00092.mp3</td>\n",
       "      <td>Mesmo de sinuca no parque.</td>\n",
       "      <td>21</td>\n",
       "    </tr>\n",
       "  </tbody>\n",
       "</table>\n",
       "</div>"
      ],
      "text/plain": [
       "        file                                      transcription  total_seconds\n",
       "0  00010.mp3      Já é uma sorte você é poupado de um acidente.             17\n",
       "1  00076.mp3  Esquadrão da Morte, Jogo do Bicho, Máfia do Ap...             17\n",
       "2  00083.mp3  Pernalte, anorexia nervosa, bulimia peróidica,...             21\n",
       "3  00084.mp3   Duas mulheres e uma menina levantam com troféus.             15\n",
       "4  00092.mp3                         Mesmo de sinuca no parque.             21"
      ]
     },
     "execution_count": 27,
     "metadata": {},
     "output_type": "execute_result"
    }
   ],
   "source": [
    "df_whisper.head()"
   ]
  },
  {
   "cell_type": "code",
   "execution_count": 28,
   "id": "e90a572a-fa08-44ca-8377-d4672f8ec605",
   "metadata": {},
   "outputs": [
    {
     "data": {
      "text/html": [
       "<div>\n",
       "<style scoped>\n",
       "    .dataframe tbody tr th:only-of-type {\n",
       "        vertical-align: middle;\n",
       "    }\n",
       "\n",
       "    .dataframe tbody tr th {\n",
       "        vertical-align: top;\n",
       "    }\n",
       "\n",
       "    .dataframe thead th {\n",
       "        text-align: right;\n",
       "    }\n",
       "</style>\n",
       "<table border=\"1\" class=\"dataframe\">\n",
       "  <thead>\n",
       "    <tr style=\"text-align: right;\">\n",
       "      <th></th>\n",
       "      <th>file</th>\n",
       "      <th>transcription</th>\n",
       "      <th>total_seconds</th>\n",
       "    </tr>\n",
       "  </thead>\n",
       "  <tbody>\n",
       "    <tr>\n",
       "      <th>0</th>\n",
       "      <td>00010.mp3</td>\n",
       "      <td>já é uma sorte que você é poupado de um acidente</td>\n",
       "      <td>0.673280</td>\n",
       "    </tr>\n",
       "    <tr>\n",
       "      <th>1</th>\n",
       "      <td>00076.mp3</td>\n",
       "      <td>Esquadrão da Morte, Jogo do Bicho, Máfia do A...</td>\n",
       "      <td>0.285897</td>\n",
       "    </tr>\n",
       "    <tr>\n",
       "      <th>2</th>\n",
       "      <td>00083.mp3</td>\n",
       "      <td>...tornal, temorexia nervosa, bulimia periódi...</td>\n",
       "      <td>0.316535</td>\n",
       "    </tr>\n",
       "    <tr>\n",
       "      <th>3</th>\n",
       "      <td>00084.mp3</td>\n",
       "      <td>Duas mulheres e uma menina levantam com troféus.</td>\n",
       "      <td>0.185692</td>\n",
       "    </tr>\n",
       "    <tr>\n",
       "      <th>4</th>\n",
       "      <td>00092.mp3</td>\n",
       "      <td>Mesa de sinuca no bar.</td>\n",
       "      <td>0.143915</td>\n",
       "    </tr>\n",
       "  </tbody>\n",
       "</table>\n",
       "</div>"
      ],
      "text/plain": [
       "        file                                      transcription  total_seconds\n",
       "0  00010.mp3   já é uma sorte que você é poupado de um acidente       0.673280\n",
       "1  00076.mp3   Esquadrão da Morte, Jogo do Bicho, Máfia do A...       0.285897\n",
       "2  00083.mp3   ...tornal, temorexia nervosa, bulimia periódi...       0.316535\n",
       "3  00084.mp3   Duas mulheres e uma menina levantam com troféus.       0.185692\n",
       "4  00092.mp3                             Mesa de sinuca no bar.       0.143915"
      ]
     },
     "execution_count": 28,
     "metadata": {},
     "output_type": "execute_result"
    }
   ],
   "source": [
    "df_oci.head()"
   ]
  },
  {
   "cell_type": "code",
   "execution_count": 38,
   "id": "c2bd08ab-da0d-4363-9b33-d4ac34d3a7cb",
   "metadata": {},
   "outputs": [
    {
     "data": {
      "text/plain": [
       "0.47752808988764045"
      ]
     },
     "execution_count": 38,
     "metadata": {},
     "output_type": "execute_result"
    }
   ],
   "source": [
    "wer.compute(predictions=df_audios.sentence, references=df_stt.transcription)"
   ]
  },
  {
   "cell_type": "code",
   "execution_count": 39,
   "id": "b69f93b3-afe2-43ed-ad76-95d0c4f99f95",
   "metadata": {},
   "outputs": [
    {
     "data": {
      "text/plain": [
       "0.2593283582089552"
      ]
     },
     "execution_count": 39,
     "metadata": {},
     "output_type": "execute_result"
    }
   ],
   "source": [
    "wer.compute(predictions=df_audios.sentence, references=df_whisper.transcription)"
   ]
  },
  {
   "cell_type": "code",
   "execution_count": 40,
   "id": "8d7f75a4-eaeb-4009-a46f-1a19b6320156",
   "metadata": {},
   "outputs": [
    {
     "data": {
      "text/plain": [
       "0.24442379182156135"
      ]
     },
     "execution_count": 40,
     "metadata": {},
     "output_type": "execute_result"
    }
   ],
   "source": [
    "wer.compute(predictions=df_audios.sentence, references=df_oci.transcription)"
   ]
  },
  {
   "cell_type": "code",
   "execution_count": null,
   "id": "3a837084-aebf-4ac7-ac2b-c8eaae382fa0",
   "metadata": {},
   "outputs": [],
   "source": []
  },
  {
   "cell_type": "code",
   "execution_count": null,
   "id": "8454374b-b1ea-462a-a9b2-ebf39c5db211",
   "metadata": {},
   "outputs": [],
   "source": []
  },
  {
   "cell_type": "code",
   "execution_count": null,
   "id": "18179d94-717b-465f-a565-5cba5166f41e",
   "metadata": {},
   "outputs": [],
   "source": []
  }
 ],
 "metadata": {
  "kernelspec": {
   "display_name": "Python 3 (ipykernel)",
   "language": "python",
   "name": "python3"
  },
  "language_info": {
   "codemirror_mode": {
    "name": "ipython",
    "version": 3
   },
   "file_extension": ".py",
   "mimetype": "text/x-python",
   "name": "python",
   "nbconvert_exporter": "python",
   "pygments_lexer": "ipython3",
   "version": "3.12.8"
  }
 },
 "nbformat": 4,
 "nbformat_minor": 5
}
